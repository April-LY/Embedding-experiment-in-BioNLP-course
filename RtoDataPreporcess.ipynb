{
  "nbformat": 4,
  "nbformat_minor": 0,
  "metadata": {
    "colab": {
      "name": "RtoDataPreporcess.ipynb",
      "provenance": [],
      "collapsed_sections": [],
      "authorship_tag": "ABX9TyML9d1zzdVqOUBQ4uVTvrgn",
      "include_colab_link": true
    },
    "kernelspec": {
      "name": "python3",
      "display_name": "Python 3"
    },
    "language_info": {
      "name": "python"
    }
  },
  "cells": [
    {
      "cell_type": "markdown",
      "metadata": {
        "id": "view-in-github",
        "colab_type": "text"
      },
      "source": [
        "<a href=\"https://colab.research.google.com/github/April-LY/Embedding-experiment-in-BioNLP-course/blob/main/RtoDataPreporcess.ipynb\" target=\"_parent\"><img src=\"https://colab.research.google.com/assets/colab-badge.svg\" alt=\"Open In Colab\"/></a>"
      ]
    },
    {
      "cell_type": "code",
      "metadata": {
        "id": "y5N_m2QD5Tk_"
      },
      "source": [
        "\n",
        "#from rto ontology to the token file\n",
        "#e.g. before:\"name: plant trait\"\n",
        "#   after:\"plant trait\"\n",
        "#since it is the embedding of the phrase rather than single word, so the token file is different form the class\n",
        "#we dont need the frequency\n",
        " \n",
        "rtoFile = '/content/rto.obo'\n",
        "tokenf = '/content/tokenRTO.txt'\n",
        "traitList = []\n",
        "wf = open(tokenf, 'w', encoding='utf-8')\n",
        "with open(rtoFile) as rtof:\n",
        "  for line in rtof:\n",
        "    line = line.split(\":\")\n",
        "    if line[0] == \"name\":\n",
        "      #去除换行符\n",
        "      deleHspace = line[1].lstrip(\" \")\n",
        "      print(deleHspace)\n",
        "      wf.write(deleHspace)\n",
        "wf.close()"
      ],
      "execution_count": null,
      "outputs": []
    }
  ]
}